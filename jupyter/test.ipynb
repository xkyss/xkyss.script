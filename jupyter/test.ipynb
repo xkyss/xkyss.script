{
 "cells": [
  {
   "cell_type": "code",
   "execution_count": 1,
   "id": "e51ad0af-8ff3-4286-b7bb-9ea1855b7b27",
   "metadata": {
    "dotnet_interactive": {
     "language": "csharp"
    },
    "vscode": {
     "languageId": "polyglot-notebook"
    }
   },
   "outputs": [],
   "source": [
    "var a = 111;"
   ]
  },
  {
   "cell_type": "code",
   "execution_count": 3,
   "id": "5b046bed-4fa7-4e56-8830-3c35cee21468",
   "metadata": {
    "dotnet_interactive": {
     "language": "csharp"
    },
    "vscode": {
     "languageId": "polyglot-notebook"
    }
   },
   "outputs": [
    {
     "name": "stdout",
     "output_type": "stream",
     "text": [
      "hello\n",
      "111\n"
     ]
    }
   ],
   "source": [
    "Console.WriteLine(\"hello\");\n",
    "Console.WriteLine(a);"
   ]
  }
 ],
 "metadata": {
  "kernelspec": {
   "display_name": ".NET (C#)",
   "language": "C#",
   "name": ".net-csharp"
  },
  "language_info": {
   "file_extension": ".cs",
   "mimetype": "text/x-csharp",
   "name": "C#",
   "pygments_lexer": "csharp",
   "version": "10.0"
  },
  "toc-autonumbering": false,
  "toc-showcode": false,
  "toc-showmarkdowntxt": false,
  "toc-showtags": false
 },
 "nbformat": 4,
 "nbformat_minor": 5
}
