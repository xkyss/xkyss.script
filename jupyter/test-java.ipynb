{
 "cells": [
  {
   "cell_type": "code",
   "execution_count": null,
   "metadata": {},
   "outputs": [],
   "source": [
    "System.out.println(\"hello jupyter java\");"
   ]
  }
 ],
 "metadata": {
  "kernelspec": {
   "display_name": "java (Ganymede/j!)",
   "language": "java",
   "name": "jbang-ganymede"
  },
  "language_info": {
   "name": "java"
  }
 },
 "nbformat": 4,
 "nbformat_minor": 2
}
