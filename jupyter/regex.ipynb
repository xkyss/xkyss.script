{
 "cells": [
  {
   "cell_type": "code",
   "execution_count": null,
   "metadata": {
    "dotnet_interactive": {
     "language": "csharp"
    },
    "vscode": {
     "languageId": "dotnet-interactive.csharp"
    }
   },
   "outputs": [],
   "source": [
    "using System.Text;\n",
    "using System.Text.RegularExpressions;"
   ]
  },
  {
   "cell_type": "code",
   "execution_count": null,
   "metadata": {
    "dotnet_interactive": {
     "language": "csharp"
    },
    "vscode": {
     "languageId": "dotnet-interactive.csharp"
    }
   },
   "outputs": [
    {
     "name": "stdout",
     "output_type": "stream",
     "text": [
      "True\r\n",
      "0a\r\n"
     ]
    },
    {
     "data": {
      "text/html": [
       "<table><thead><tr><th>Success</th><th>Name</th><th>Captures</th><th>Index</th><th>Length</th><th>Value</th><th>ValueSpan</th></tr></thead><tbody><tr><td><div class=\"dni-plaintext\">True</div></td><td><div class=\"dni-plaintext\">3</div></td><td><div class=\"dni-plaintext\">[ { 0a: Success: True, Name: 3, Captures: [ { 0a: Success: True, Name: 3, Captures: [ { 0a: Success: True, Name: 3, Captures: [ 0a ], Index: 72, Length: 2, Value: 0a, ValueSpan: 0a } ], Index: 72, Length: 2, Value: 0a, ValueSpan: 0a } ], Index: 72, Length: 2, Value: 0a, ValueSpan: 0a } ]</div></td><td><div class=\"dni-plaintext\">72</div></td><td><div class=\"dni-plaintext\">2</div></td><td><div class=\"dni-plaintext\">0a</div></td><td><div class=\"dni-plaintext\">0a</div></td></tr></tbody></table>"
      ]
     },
     "metadata": {},
     "output_type": "display_data"
    }
   ],
   "source": [
    "var input = \"0xa0712d68000000000000000000000000000000000000000000000000000000000000000a\";\n",
    "var m = Regex.Match(input, @\"^0x([a-zA-Z0-9]{8})(0{62})([a-zA-Z0-9]{2})$\");\n",
    "System.Console.WriteLine(m.Success);\n",
    "System.Console.WriteLine(m.Groups[3]);\n",
    "m.Groups[3]"
   ]
  },
  {
   "cell_type": "code",
   "execution_count": null,
   "metadata": {
    "dotnet_interactive": {
     "language": "csharp"
    },
    "vscode": {
     "languageId": "dotnet-interactive.csharp"
    }
   },
   "outputs": [
    {
     "data": {
      "text/html": [
       "<div class=\"dni-plaintext\">True</div>"
      ]
     },
     "metadata": {},
     "output_type": "display_data"
    }
   ],
   "source": [
    "var input = \"0xa0712d680000000000000000000000000000000000000000000000000000000000000001\";\n",
    "var m = Regex.Match(input, @\"^0x([a-zA-Z0-9]{8})(\\d{64})$\");\n",
    "m.Success"
   ]
  },
  {
   "cell_type": "code",
   "execution_count": null,
   "metadata": {
    "dotnet_interactive": {
     "language": "csharp"
    },
    "vscode": {
     "languageId": "dotnet-interactive.csharp"
    }
   },
   "outputs": [
    {
     "data": {
      "text/html": [
       "<div class=\"dni-plaintext\">True</div>"
      ]
     },
     "metadata": {},
     "output_type": "display_data"
    }
   ],
   "source": [
    "var input = \"0xa0712d680000000000000000000000000000000000000000000000000000000000000001\";\n",
    "var m = Regex.Match(input, @\"^0x([a-zA-Z0-9]{8})(\\d{64})$\");\n",
    "m.Success"
   ]
  },
  {
   "cell_type": "code",
   "execution_count": null,
   "metadata": {
    "dotnet_interactive": {
     "language": "csharp"
    },
    "vscode": {
     "languageId": "dotnet-interactive.csharp"
    }
   },
   "outputs": [
    {
     "name": "stdout",
     "output_type": "stream",
     "text": [
      "138\r\n"
     ]
    },
    {
     "data": {
      "text/html": [
       "<div class=\"dni-plaintext\">True</div>"
      ]
     },
     "metadata": {},
     "output_type": "display_data"
    }
   ],
   "source": [
    "var input = \"0x40c10f19000000000000000000000000de81a2ac378d884d59cc3a5aab5981292905e4f80000000000000000000000000000000000000000000000000000000000000003\";\n",
    "System.Console.WriteLine(input.Length);\n",
    "var m = Regex.Match(input, @\"^0x([a-zA-Z0-9]{8})(\\w{64})(\\d{64})$\");\n",
    "m.Success"
   ]
  },
  {
   "cell_type": "code",
   "execution_count": null,
   "metadata": {
    "dotnet_interactive": {
     "language": "csharp"
    },
    "vscode": {
     "languageId": "dotnet-interactive.csharp"
    }
   },
   "outputs": [
    {
     "name": "stdout",
     "output_type": "stream",
     "text": [
      "138\r\n"
     ]
    },
    {
     "data": {
      "text/html": [
       "<div class=\"dni-plaintext\">True</div>"
      ]
     },
     "metadata": {},
     "output_type": "display_data"
    }
   ],
   "source": [
    "var input = \"0x40c10f190000000000000000000000000000000000000000000000000000000000000003000000000000000000000000de81a2ac378d884d59cc3a5aab5981292905e4f8\";\n",
    "System.Console.WriteLine(input.Length);\n",
    "var m = Regex.Match(input, @\"^0x([a-zA-Z0-9]{8})(\\d{64})(\\w{64})$\");\n",
    "m.Success"
   ]
  },
  {
   "cell_type": "code",
   "execution_count": null,
   "metadata": {
    "dotnet_interactive": {
     "language": "csharp"
    },
    "vscode": {
     "languageId": "dotnet-interactive.csharp"
    }
   },
   "outputs": [],
   "source": [
    "public string FixInput(string input, string followAddress, string accountAddress)\n",
    "{\n",
    "    if (string.IsNullOrEmpty(input) || string.IsNullOrEmpty(followAddress) || string.IsNullOrEmpty(accountAddress))\n",
    "    {\n",
    "        return input;\n",
    "    }\n",
    "\n",
    "    var lowerInput = input.ToLower();\n",
    "    var lowerFollow = followAddress.ToLower();\n",
    "    var lowerAccount = accountAddress.ToLower();\n",
    "\n",
    "    if (lowerInput.Contains(lowerFollow))\n",
    "    {\n",
    "        var ret = lowerInput.Replace(lowerFollow, lowerAccount);\n",
    "        return ret;\n",
    "    }\n",
    "\n",
    "    return input;\n",
    "}"
   ]
  },
  {
   "cell_type": "code",
   "execution_count": null,
   "metadata": {
    "dotnet_interactive": {
     "language": "csharp"
    },
    "vscode": {
     "languageId": "dotnet-interactive.csharp"
    }
   },
   "outputs": [
    {
     "name": "stdout",
     "output_type": "stream",
     "text": [
      "Input.Length: 138\r\n",
      "Fixed.Length: 138\r\n",
      "0x40c10f1900000000000000000000000000000000000000000000000000000000000000030000000000000000000000005f2dc6194eef7a348a8cef952573af6723208003\r\n"
     ]
    }
   ],
   "source": [
    "var input = \"0x40c10f190000000000000000000000000000000000000000000000000000000000000003000000000000000000000000de81a2ac378d884d59cc3a5aab5981292905e4f8\";\n",
    "var followAddress =  \"de81a2ac378d884d59cc3a5aab5981292905e4f8\";\n",
    "var accountAddress = \"5f2dC6194EEf7a348a8cEf952573AF6723208003\";\n",
    "\n",
    "System.Console.WriteLine($\"Input.Length: {input.Length}\");\n",
    "\n",
    "var @fixed = FixInput(input, followAddress, accountAddress);\n",
    "System.Console.WriteLine($\"Fixed.Length: {@fixed.Length}\");\n",
    "System.Console.WriteLine(@fixed);"
   ]
  },
  {
   "cell_type": "code",
   "execution_count": null,
   "metadata": {
    "dotnet_interactive": {
     "language": "csharp"
    },
    "vscode": {
     "languageId": "dotnet-interactive.csharp"
    }
   },
   "outputs": [
    {
     "data": {
      "text/plain": [
       "0000000000000000000000005f2dC6194EEf7a348a8cEf952573AF6723208003"
      ]
     },
     "metadata": {},
     "output_type": "display_data"
    }
   ],
   "source": [
    "var s = \"5f2dC6194EEf7a348a8cEf952573AF6723208003\";\n",
    "s.PadLeft(64, '0')"
   ]
  }
 ],
 "metadata": {
  "kernelspec": {
   "display_name": ".NET (C#)",
   "language": "C#",
   "name": ".net-csharp"
  },
  "language_info": {
   "file_extension": ".cs",
   "mimetype": "text/x-csharp",
   "name": "C#",
   "pygments_lexer": "csharp",
   "version": "9.0"
  },
  "orig_nbformat": 4,
  "vscode": {
   "interpreter": {
    "hash": "0cdaf0983e9c211469ca8595f27550de208699b5c21dc0adedf7741e3a4c7aff"
   }
  }
 },
 "nbformat": 4,
 "nbformat_minor": 2
}
